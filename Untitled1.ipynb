{
 "cells": [
  {
   "cell_type": "markdown",
   "metadata": {},
   "source": [
    "# How does Temperature affect sampling?"
   ]
  },
  {
   "cell_type": "markdown",
   "metadata": {},
   "source": [
    "### Suppose We have a neural network whose outputs $u_{1:|V|}$ are the `activations` for choosing words from a vocabulary $V$. Here |V| is the cardinality of {V}, i.e. the number of words in the vocabulary.  In the context of a language model, we would like to predict the next word $x_{n+1}$ given a sequence of words (x_{1}, x_{2}, ...,x_{n} in a sequence from a v given a sequence of words  from a vocabulary {V} that comes after a set . To get the `probability mass distribution` for the next word, we could apply softmax:\n",
    "\n",
    "\n",
    "$ where $i$ ranges from $1$ to $n$\n"
   ]
  },
  {
   "cell_type": "markdown",
   "metadata": {},
   "source": []
  }
 ],
 "metadata": {
  "kernelspec": {
   "display_name": "fastai_v1",
   "language": "python",
   "name": "fastai_v1"
  },
  "language_info": {
   "codemirror_mode": {
    "name": "ipython",
    "version": 3
   },
   "file_extension": ".py",
   "mimetype": "text/x-python",
   "name": "python",
   "nbconvert_exporter": "python",
   "pygments_lexer": "ipython3",
   "version": "3.7.3"
  }
 },
 "nbformat": 4,
 "nbformat_minor": 4
}
